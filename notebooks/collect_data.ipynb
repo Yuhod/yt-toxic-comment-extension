{
  "nbformat": 4,
  "nbformat_minor": 0,
  "metadata": {
    "colab": {
      "provenance": []
    },
    "kernelspec": {
      "name": "python3",
      "display_name": "Python 3"
    },
    "language_info": {
      "name": "python"
    }
  },
  "cells": [
    {
      "cell_type": "markdown",
      "source": [
        "Set up"
      ],
      "metadata": {
        "id": "ZdqtrZewI530"
      }
    },
    {
      "cell_type": "code",
      "execution_count": 1,
      "metadata": {
        "colab": {
          "base_uri": "https://localhost:8080/"
        },
        "id": "Frb9dmm0IwDt",
        "outputId": "8f4479f3-4d8f-4153-d2a6-49f9a632a9b3"
      },
      "outputs": [
        {
          "output_type": "stream",
          "name": "stdout",
          "text": [
            "Requirement already satisfied: google-api-python-client in /usr/local/lib/python3.12/dist-packages (2.181.0)\n",
            "Requirement already satisfied: pandas in /usr/local/lib/python3.12/dist-packages (2.2.2)\n",
            "Requirement already satisfied: python-dotenv in /usr/local/lib/python3.12/dist-packages (1.1.1)\n",
            "Requirement already satisfied: tqdm in /usr/local/lib/python3.12/dist-packages (4.67.1)\n",
            "Collecting isodate\n",
            "  Downloading isodate-0.7.2-py3-none-any.whl.metadata (11 kB)\n",
            "Requirement already satisfied: pyarrow in /usr/local/lib/python3.12/dist-packages (18.1.0)\n",
            "Collecting yt-dlp\n",
            "  Downloading yt_dlp-2025.9.5-py3-none-any.whl.metadata (177 kB)\n",
            "\u001b[2K     \u001b[90m━━━━━━━━━━━━━━━━━━━━━━━━━━━━━━━━━━━━━━━\u001b[0m \u001b[32m177.1/177.1 kB\u001b[0m \u001b[31m3.7 MB/s\u001b[0m eta \u001b[36m0:00:00\u001b[0m\n",
            "\u001b[?25hRequirement already satisfied: gspread in /usr/local/lib/python3.12/dist-packages (6.2.1)\n",
            "Requirement already satisfied: httplib2<1.0.0,>=0.19.0 in /usr/local/lib/python3.12/dist-packages (from google-api-python-client) (0.30.0)\n",
            "Requirement already satisfied: google-auth!=2.24.0,!=2.25.0,<3.0.0,>=1.32.0 in /usr/local/lib/python3.12/dist-packages (from google-api-python-client) (2.38.0)\n",
            "Requirement already satisfied: google-auth-httplib2<1.0.0,>=0.2.0 in /usr/local/lib/python3.12/dist-packages (from google-api-python-client) (0.2.0)\n",
            "Requirement already satisfied: google-api-core!=2.0.*,!=2.1.*,!=2.2.*,!=2.3.0,<3.0.0,>=1.31.5 in /usr/local/lib/python3.12/dist-packages (from google-api-python-client) (2.25.1)\n",
            "Requirement already satisfied: uritemplate<5,>=3.0.1 in /usr/local/lib/python3.12/dist-packages (from google-api-python-client) (4.2.0)\n",
            "Requirement already satisfied: numpy>=1.26.0 in /usr/local/lib/python3.12/dist-packages (from pandas) (2.0.2)\n",
            "Requirement already satisfied: python-dateutil>=2.8.2 in /usr/local/lib/python3.12/dist-packages (from pandas) (2.9.0.post0)\n",
            "Requirement already satisfied: pytz>=2020.1 in /usr/local/lib/python3.12/dist-packages (from pandas) (2025.2)\n",
            "Requirement already satisfied: tzdata>=2022.7 in /usr/local/lib/python3.12/dist-packages (from pandas) (2025.2)\n",
            "Requirement already satisfied: google-auth-oauthlib>=0.4.1 in /usr/local/lib/python3.12/dist-packages (from gspread) (1.2.2)\n",
            "Requirement already satisfied: googleapis-common-protos<2.0.0,>=1.56.2 in /usr/local/lib/python3.12/dist-packages (from google-api-core!=2.0.*,!=2.1.*,!=2.2.*,!=2.3.0,<3.0.0,>=1.31.5->google-api-python-client) (1.70.0)\n",
            "Requirement already satisfied: protobuf!=3.20.0,!=3.20.1,!=4.21.0,!=4.21.1,!=4.21.2,!=4.21.3,!=4.21.4,!=4.21.5,<7.0.0,>=3.19.5 in /usr/local/lib/python3.12/dist-packages (from google-api-core!=2.0.*,!=2.1.*,!=2.2.*,!=2.3.0,<3.0.0,>=1.31.5->google-api-python-client) (5.29.5)\n",
            "Requirement already satisfied: proto-plus<2.0.0,>=1.22.3 in /usr/local/lib/python3.12/dist-packages (from google-api-core!=2.0.*,!=2.1.*,!=2.2.*,!=2.3.0,<3.0.0,>=1.31.5->google-api-python-client) (1.26.1)\n",
            "Requirement already satisfied: requests<3.0.0,>=2.18.0 in /usr/local/lib/python3.12/dist-packages (from google-api-core!=2.0.*,!=2.1.*,!=2.2.*,!=2.3.0,<3.0.0,>=1.31.5->google-api-python-client) (2.32.4)\n",
            "Requirement already satisfied: cachetools<6.0,>=2.0.0 in /usr/local/lib/python3.12/dist-packages (from google-auth!=2.24.0,!=2.25.0,<3.0.0,>=1.32.0->google-api-python-client) (5.5.2)\n",
            "Requirement already satisfied: pyasn1-modules>=0.2.1 in /usr/local/lib/python3.12/dist-packages (from google-auth!=2.24.0,!=2.25.0,<3.0.0,>=1.32.0->google-api-python-client) (0.4.2)\n",
            "Requirement already satisfied: rsa<5,>=3.1.4 in /usr/local/lib/python3.12/dist-packages (from google-auth!=2.24.0,!=2.25.0,<3.0.0,>=1.32.0->google-api-python-client) (4.9.1)\n",
            "Requirement already satisfied: requests-oauthlib>=0.7.0 in /usr/local/lib/python3.12/dist-packages (from google-auth-oauthlib>=0.4.1->gspread) (2.0.0)\n",
            "Requirement already satisfied: pyparsing<4,>=3.0.4 in /usr/local/lib/python3.12/dist-packages (from httplib2<1.0.0,>=0.19.0->google-api-python-client) (3.2.3)\n",
            "Requirement already satisfied: six>=1.5 in /usr/local/lib/python3.12/dist-packages (from python-dateutil>=2.8.2->pandas) (1.17.0)\n",
            "Requirement already satisfied: pyasn1<0.7.0,>=0.6.1 in /usr/local/lib/python3.12/dist-packages (from pyasn1-modules>=0.2.1->google-auth!=2.24.0,!=2.25.0,<3.0.0,>=1.32.0->google-api-python-client) (0.6.1)\n",
            "Requirement already satisfied: charset_normalizer<4,>=2 in /usr/local/lib/python3.12/dist-packages (from requests<3.0.0,>=2.18.0->google-api-core!=2.0.*,!=2.1.*,!=2.2.*,!=2.3.0,<3.0.0,>=1.31.5->google-api-python-client) (3.4.3)\n",
            "Requirement already satisfied: idna<4,>=2.5 in /usr/local/lib/python3.12/dist-packages (from requests<3.0.0,>=2.18.0->google-api-core!=2.0.*,!=2.1.*,!=2.2.*,!=2.3.0,<3.0.0,>=1.31.5->google-api-python-client) (3.10)\n",
            "Requirement already satisfied: urllib3<3,>=1.21.1 in /usr/local/lib/python3.12/dist-packages (from requests<3.0.0,>=2.18.0->google-api-core!=2.0.*,!=2.1.*,!=2.2.*,!=2.3.0,<3.0.0,>=1.31.5->google-api-python-client) (2.5.0)\n",
            "Requirement already satisfied: certifi>=2017.4.17 in /usr/local/lib/python3.12/dist-packages (from requests<3.0.0,>=2.18.0->google-api-core!=2.0.*,!=2.1.*,!=2.2.*,!=2.3.0,<3.0.0,>=1.31.5->google-api-python-client) (2025.8.3)\n",
            "Requirement already satisfied: oauthlib>=3.0.0 in /usr/local/lib/python3.12/dist-packages (from requests-oauthlib>=0.7.0->google-auth-oauthlib>=0.4.1->gspread) (3.3.1)\n",
            "Downloading isodate-0.7.2-py3-none-any.whl (22 kB)\n",
            "Downloading yt_dlp-2025.9.5-py3-none-any.whl (3.3 MB)\n",
            "\u001b[2K   \u001b[90m━━━━━━━━━━━━━━━━━━━━━━━━━━━━━━━━━━━━━━━━\u001b[0m \u001b[32m3.3/3.3 MB\u001b[0m \u001b[31m24.3 MB/s\u001b[0m eta \u001b[36m0:00:00\u001b[0m\n",
            "\u001b[?25hInstalling collected packages: yt-dlp, isodate\n",
            "Successfully installed isodate-0.7.2 yt-dlp-2025.9.5\n"
          ]
        }
      ],
      "source": [
        "#install lib\n",
        "!pip install google-api-python-client pandas python-dotenv tqdm isodate pyarrow yt-dlp gspread"
      ]
    },
    {
      "cell_type": "code",
      "source": [
        "#mount drive\n",
        "from google.colab import drive\n",
        "drive.mount('/content/drive')"
      ],
      "metadata": {
        "colab": {
          "base_uri": "https://localhost:8080/"
        },
        "id": "v8S5zbvvJHvB",
        "outputId": "fc5d5c92-1f7f-461d-c70d-fc433d740244"
      },
      "execution_count": 2,
      "outputs": [
        {
          "output_type": "stream",
          "name": "stdout",
          "text": [
            "Mounted at /content/drive\n"
          ]
        }
      ]
    },
    {
      "cell_type": "markdown",
      "source": [
        "Import & Config\n"
      ],
      "metadata": {
        "id": "kUdV25yuJbZQ"
      }
    },
    {
      "cell_type": "code",
      "source": [
        "import os, json, glob\n",
        "import pandas as pd\n",
        "from yt_dlp import YoutubeDL\n",
        "from google.oauth2.service_account import Credentials\n",
        "from googleapiclient.discovery import build\n",
        "import gspread\n",
        "from dotenv import load_dotenv\n",
        "\n",
        "env_path = \"/content/drive/MyDrive/collect_data_yt_toxic_cmt/.env\"\n",
        "load_dotenv(env_path)\n",
        "\n",
        "api_key = os.getenv('YOUTUBE_API_KEY')\n",
        "Sheet_url = \"https://docs.google.com/spreadsheets/d/1LIrMrc6jOaF87AMaWnABeFxUAWY-WrApYVo1D9D9mJ8/edit?gid=0#gid=0\"\n",
        "Sheet_id = Sheet_url.split(\"/\")[5]\n",
        "\n",
        "cre = Credentials.from_service_account_file(\n",
        "    \"/content/drive/MyDrive/collect_data_yt_toxic_cmt/service_account.json\",\n",
        "    scopes=[\"https://www.googleapis.com/auth/spreadsheets\",\n",
        "            \"https://www.googleapis.com/auth/drive\"]\n",
        ")\n",
        "gc = gspread.authorize(cre)\n",
        "sheet = gc.open_by_key(Sheet_id).sheet1\n",
        "df_link = pd.DataFrame(sheet.get_all_records())\n",
        "\n",
        "\n",
        "ytb = build(\"youtube\", \"v3\", developerKey=api_key)\n",
        "\n",
        "data_raw = \"/content/drive/MyDrive/collect_data_yt_toxic_cmt/data_raw\"\n",
        "os.makedirs(data_raw, exist_ok=True)"
      ],
      "metadata": {
        "id": "maDgASYhJMY0"
      },
      "execution_count": 16,
      "outputs": []
    },
    {
      "cell_type": "markdown",
      "source": [
        "Function"
      ],
      "metadata": {
        "id": "DNFOyOaXMkDd"
      }
    },
    {
      "cell_type": "code",
      "source": [
        "#video yotube\n",
        "def get_cmt (vid_id , max_pages = 2):\n",
        "  # parameters\n",
        "  # - vid_id : id cua video ytb\n",
        "  # - max_pages : so luong trang toi da chua cmt / 1 vid\n",
        "  # Local variable\n",
        "  # - cmts : list chua cmt\n",
        "  # - page token : list chua token cua page\n",
        "  # - req : request\n",
        "  # - res : response\n",
        "  # input : vid_id , max_pages\n",
        "  # output : dataframe chua cmt\n",
        "  cmts , page_token = [], None\n",
        "\n",
        "  for _ in range(max_pages):\n",
        "    req = ytb.commentThreads().list(\n",
        "        part = \"snippet\",\n",
        "        videoId = vid_id,\n",
        "        maxResults = 100,\n",
        "        textFormat = \"plainText\",\n",
        "        pageToken= page_token\n",
        "    )\n",
        "\n",
        "    res = req.execute()\n",
        "    for item in res.get(\"item\" , []):\n",
        "      c = item[\"snippet\"][\"topLevelComment\"][\"snippet\"][\"textDisplay\"]\n",
        "      cmts.append(c)\n",
        "\n",
        "    page_token = res.get(\"nextPageToken\")\n",
        "    if not page_token:\n",
        "      break\n",
        "\n",
        "  return pd.DataFrame(cmts)\n",
        "\n",
        "#replay live chat\n",
        "def get_livechat(url):\n",
        "    # Parameters:\n",
        "    # - url : url cua video\n",
        "    # Local variable:\n",
        "    # -ydl_opts : dict\n",
        "    #     Cấu hình cho yt-dlp, gồm:\n",
        "    #     - skip_download: True (không tải video, chỉ lấy metadata/subtitles)\n",
        "    #     - writesubtitles: True (ghi phụ đề / live chat)\n",
        "    #     - subtitleslangs: [\"live_chat\"] (chỉ lấy live chat)\n",
        "    # -ydl : YoutubeDL object\n",
        "    # json_file : str\n",
        "    #     Tên file `.live_chat.json` mới nhất được yt-dlp tạo ra.\n",
        "    # comments : list\n",
        "    #     List chứa các comment dạng dict {\"comment_id\": ..., \"text\": ...}.\n",
        "    # f : file object\n",
        "    #     File JSON live chat mở ra để đọc.\n",
        "    # data : dict\n",
        "    #     1 dòng dữ liệu JSON từ file.\n",
        "    # act : dict\n",
        "    #     1 action trong live chat (thường là addChatItemAction).\n",
        "    # renderer : dict or None\n",
        "    #     Renderer của message, chứa id và text comment.\n",
        "    # cid : str\n",
        "    #     ID của comment trong live chat.\n",
        "    # runs : list\n",
        "    #     Danh sách các đoạn text trong message.\n",
        "    # text : str\n",
        "    #     Nội dung comment ghép từ các run.\n",
        "\n",
        "    # Input:\n",
        "    # -url\n",
        "    # Output:\n",
        "    #     DataFrame chứa các comment live chat\n",
        "\n",
        "    ydl_opts = {\n",
        "        \"skip_download\": True,\n",
        "        \"writesubtitles\": True,\n",
        "        \"subtitleslangs\": [\"live_chat\"]\n",
        "    }\n",
        "\n",
        "    with YoutubeDL(ydl_opts) as ydl:\n",
        "        ydl.download([url])\n",
        "\n",
        "    json_file = max(glob.glob(\"*.live_chat.json\"), key=os.path.getctime)\n",
        "\n",
        "    comments = []\n",
        "    with open(json_file, \"r\", encoding=\"utf-8\") as f:\n",
        "        for line in f:\n",
        "            data = json.loads(line)\n",
        "            for act in data.get(\"replayChatItemAction\", {}).get(\"actions\", []):\n",
        "                renderer = act.get(\"addChatItemAction\", {}).get(\"item\", {}).get(\"liveChatTextMessageRenderer\")\n",
        "                if renderer:\n",
        "                    cid = renderer.get(\"id\")\n",
        "                    runs = renderer.get(\"message\", {}).get(\"runs\", [])\n",
        "                    text = \"\".join(r.get(\"text\", \"\") for r in runs)\n",
        "                    comments.append({\"comment_id\": cid, \"text\": text})\n",
        "\n",
        "    return pd.DataFrame(comments)\n"
      ],
      "metadata": {
        "id": "EouTQUZNKIYY"
      },
      "execution_count": 17,
      "outputs": []
    },
    {
      "cell_type": "markdown",
      "source": [
        "Main Pipeline"
      ],
      "metadata": {
        "id": "D5o1YKkSRkOY"
      }
    },
    {
      "cell_type": "code",
      "source": [
        "all_files = []\n",
        "\n",
        "for i, row in df_link.iterrows():\n",
        "    stt, link, t, vid = row[\"STT\"], row[\"Link\"], row[\"Type\"], row[\"ID\"]\n",
        "\n",
        "    if t == 0 and vid:\n",
        "        out_file = f\"{data_raw}/vid_{vid}.csv\"\n",
        "        if not os.path.exists(out_file):\n",
        "            print(f\"[{stt}] Lấy comment video {vid} ...\")\n",
        "            df = get_cmt(vid)\n",
        "            df.to_csv(out_file, index=False, encoding=\"utf-8-sig\")\n",
        "        else:\n",
        "            print(f\"[{stt}]  Đã có file {out_file}, bỏ qua\")\n",
        "        all_files.append(out_file)\n",
        "\n",
        "    elif t == 1 and link:\n",
        "        out_file = f\"{data_raw}/live_{stt}.csv\"\n",
        "        if not os.path.exists(out_file):\n",
        "            print(f\"[{stt}]  Lấy live chat {link} ...\")\n",
        "            df = get_livechat(link)\n",
        "            df.to_csv(out_file, index=False, encoding=\"utf-8-sig\")\n",
        "        else:\n",
        "            print(f\"[{stt}]  Đã có file {out_file}, bỏ qua\")\n",
        "        all_files.append(out_file)\n",
        "\n",
        "print(\"SUCCESS\")"
      ],
      "metadata": {
        "colab": {
          "base_uri": "https://localhost:8080/"
        },
        "id": "MDrCy3gTRkk2",
        "outputId": "2f311d45-f2ea-4748-dfd3-c65721bea058"
      },
      "execution_count": 18,
      "outputs": [
        {
          "output_type": "stream",
          "name": "stdout",
          "text": [
            "[1]  Đã có file /content/drive/MyDrive/collect_data_yt_toxic_cmt/data_raw/live_1.csv, bỏ qua\n",
            "[9]  Đã có file /content/drive/MyDrive/collect_data_yt_toxic_cmt/data_raw/live_9.csv, bỏ qua\n",
            "[2]  Đã có file /content/drive/MyDrive/collect_data_yt_toxic_cmt/data_raw/vid_Z7NHEDDysa0.csv, bỏ qua\n",
            "[3]  Đã có file /content/drive/MyDrive/collect_data_yt_toxic_cmt/data_raw/vid_3f74WqUicKk.csv, bỏ qua\n",
            "[4]  Đã có file /content/drive/MyDrive/collect_data_yt_toxic_cmt/data_raw/vid_scR6QC-pFpg.csv, bỏ qua\n",
            "[5]  Đã có file /content/drive/MyDrive/collect_data_yt_toxic_cmt/data_raw/vid_XrKX2iAIQ14.csv, bỏ qua\n",
            "[6]  Đã có file /content/drive/MyDrive/collect_data_yt_toxic_cmt/data_raw/vid_p8v2BClNYkc.csv, bỏ qua\n",
            "[7]  Đã có file /content/drive/MyDrive/collect_data_yt_toxic_cmt/data_raw/vid_U82nFgwCZlI.csv, bỏ qua\n",
            "[8]  Đã có file /content/drive/MyDrive/collect_data_yt_toxic_cmt/data_raw/vid_bHQLFy-QNRI.csv, bỏ qua\n",
            "[10]  Đã có file /content/drive/MyDrive/collect_data_yt_toxic_cmt/data_raw/vid_d6_nW3gv59M.csv, bỏ qua\n",
            "SUCCESS\n"
          ]
        }
      ]
    },
    {
      "cell_type": "markdown",
      "source": [
        "Summary"
      ],
      "metadata": {
        "id": "ERte4SegVwe6"
      }
    },
    {
      "cell_type": "markdown",
      "source": [
        "# Báo cáo Thu thập Comment YouTube\n",
        "\n",
        "**Người thực hiện:** Do Huy  \n",
        "**Ngày:** 16/09/2025\n",
        "\n",
        "## 1. Pipeline\n",
        "1. **Đọc danh sách video/link từ Google Sheet**  \n",
        "2. **Thu thập dữ liệu**  \n",
        "   - Comment thường → YouTube API  \n",
        "   - Live chat → yt-dlp, lưu phụ đề replay  \n",
        "3. **Lưu dữ liệu thô**  \n",
        "   - Định dạng: CSV  \n",
        "   - Thư mục: `data_raw/`  \n",
        "   - Cột: `comment_id`, `text`  \n",
        "4. **Kiểm tra & ghi log**  \n",
        "   - Bỏ qua video đã thu thập  \n",
        "   - Ghi log tiến trình\n",
        "\n",
        "## 2. Vấn đề gặp phải\n",
        "- Giới hạn tốc độ API (giải pháp: retry, tạm dừng)  \n",
        "- Một số live chat không tải được phụ đề  \n",
        "- Ký tự đặc biệt/emoji (giải pháp: lưu CSV với `utf-8-sig`)  \n",
        "- API key được lưu an toàn trong `.env`\n",
        "\n",
        "## 3. Kế hoạch tiếp theo\n",
        "- Làm sạch dữ liệu: loại bỏ duplicate, comment trống  \n"
      ],
      "metadata": {
        "id": "Ru8law4vVymA"
      }
    }
  ]
}